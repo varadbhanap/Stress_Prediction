{
  "cells": [
    {
      "cell_type": "code",
      "execution_count": null,
      "metadata": {
        "id": "-gOnkPkDrkiP"
      },
      "outputs": [],
      "source": [
        "import pandas as pd\n",
        "from sklearn.model_selection import train_test_split\n",
        "from sklearn.tree import DecisionTreeRegressor\n",
        "from sklearn.metrics import mean_squared_error\n",
        "import numpy as np"
      ]
    },
    {
      "cell_type": "code",
      "execution_count": null,
      "metadata": {
        "id": "38ytYTaDr3Pa"
      },
      "outputs": [],
      "source": [
        "# Load the CSV data\n",
        "csv_file_path = \"D:\\PBL_SEM4\\Final.csv\"  # Replace with your CSV file path"
      ]
    },
    {
      "cell_type": "code",
      "execution_count": null,
      "metadata": {
        "id": "iPUoBh5Or6j0",
        "colab": {
          "base_uri": "https://localhost:8080/"
        },
        "outputId": "51e4f2c6-945a-497b-d194-a9eb550ec60d"
      },
      "outputs": [
        {
          "output_type": "stream",
          "name": "stdout",
          "text": [
            "Enter value for Age: 20\n",
            "Enter Gender (Male/Female): male\n",
            "Enter Location (Urban/Rural): urban\n",
            "Enter value for How much were you bothered or distressed over the past few months by Uncontrollable emotional outbursts?: 5\n",
            "Enter value for How much were you bothered or distressed over the past few months by Finding it difficult to start something?: 4\n",
            "Enter value for How much were you bothered or distressed over the past few months by Emotional Vulnerability?: 4\n",
            "Enter value for How much were you bothered or distressed over the past few months by Feeling that you worry too much?: 5\n",
            "Enter value for How much were you bothered or distressed over the past few months by Feeling observed or talked about?: 3\n",
            "Enter value for How much were you bothered or distressed over the past few months by Feeling uptight or agitated?: 3\n",
            "Enter value for How much were you bothered or distressed over the past few months by Feeling of heaviness in your arms and legs?: 4\n",
            "Enter value for How much were you bothered or distressed over the past few months by Feeling nervous when left to yourself?: 5\n",
            "Enter value for How much were you bothered or distressed over the past few months by Feeling lonely even in company?: 4\n",
            "Enter value for I've been turning to work or other activities to take my mind off things.: 4\n",
            "Enter value for I've been doing something to think about it less, such as going to movies, watching TV, reading, daydreaming, sleeping or shopping.: 5\n",
            "Enter value for I've been saying to myself, \"this isn't real.\": 4\n",
            "Enter value for I've been refusing to believe that it has happened.: 5\n",
            "Enter value for I've been saying things to let my unpleasant feelings escape.: 5\n",
            "Enter value for I've been expressing my negative feelings.: 5\n",
            "Enter value for I've been criticizing myself.: 5\n",
            "Enter value for I've been blaming myself for things that happened: 4\n",
            "Enter value for I've been giving up trying to deal with it: 5\n",
            "Enter value for I've been giving up the attempt to cope.: 5\n",
            "Enter value for I've been accepting the reality of the fact that it has happened.: 2\n",
            "Enter value for I've been learning to live with it.: 1\n",
            "Enter value for I've been concentrating my efforts on doing something about the situation I'm in.: 1\n",
            "Enter value for I've been taking action to try to make the situation better.: 2\n",
            "Enter value for I feel tense when I'm with people I don't know.: 1\n",
            "Enter value for I am socially somewhat awkward.: 2\n",
            "Enter value for I am often uncomfortable at parties and other social functions.: 1\n",
            "Enter value for When in a group of people, I have trouble thinking of the right things to talk about.: 2\n",
            "Enter value for It is hard for me to act natural when I am meeting new people.: 1\n",
            "Enter value for I feel nervous when speaking to someone in authority.: 2\n",
            "Enter value for I have trouble looking someone right in the eye.: 2\n",
            "Enter value for I feel inhibited in social situations.: 3\n",
            "Enter value for I am more shy with members of the opposite sex.: 1\n",
            "Enter value for I am a lonely person.: 3\n",
            "Enter value for I always will be a lonely person.: 2\n",
            "Enter value for Other people think of me as a lonely person.: 4\n",
            "Enter value for I always was a lonely person.: 5\n",
            "Enter value for On the whole, I am satisfied with myself: 5\n",
            "Enter value for I feel that I have a number of good qualities.: 5\n",
            "Enter value for I am able to do things as well as most other people.: 3\n",
            "Enter value for I feel that I'm a person of worth, at least on an equal plane with others.: 3\n",
            "Enter value for I take positive attitude toward myself.: 3\n",
            "Enter value for In most ways my life is close to my ideal.: 3\n",
            "Enter value for The conditions of my life are excellent.: 2\n",
            "Enter value for I am satisfied with my life.: 3\n",
            "Enter value for So far I have gotten the important things I want in life.: 3\n",
            "Enter value for If I could live my life over  I would change almost nothing.: 1\n",
            "Predicted Stress Score: 3.90\n",
            "Root Mean Squared Error (RMSE) on test set: 0.21\n"
          ]
        }
      ],
      "source": [
        "try:\n",
        "    data = pd.read_csv('Final.csv')\n",
        "\n",
        "    # Separate features (X) and target (y)\n",
        "    X = data.iloc[:, :-1]  # All columns except the last one\n",
        "    y = data.iloc[:, -1]   # The last column (Stress Score)\n",
        "\n",
        "    # Split data into training and testing sets\n",
        "    X_train, X_test, y_train, y_test = train_test_split(X, y, test_size=0.2, random_state=42)\n",
        "\n",
        "    # Create and train the Decision Tree Regressor\n",
        "    model = DecisionTreeRegressor(random_state=42)\n",
        "    model.fit(X_train, y_train)\n",
        "\n",
        "    # Get user input for features\n",
        "    user_input = {}\n",
        "    for column in X.columns:\n",
        "        if column == 'Gender':\n",
        "            gender = input(\"Enter Gender (Male/Female): \").lower()\n",
        "            if gender == 'male':\n",
        "                user_input[column] = 1\n",
        "            elif gender == 'female':\n",
        "                user_input[column] = 2\n",
        "            else:\n",
        "                print(\"Invalid Gender input. Please enter Male or Female.\")\n",
        "                exit()\n",
        "        elif column == 'Location':\n",
        "            location = input(\"Enter Location (Urban/Rural): \").lower()\n",
        "            if location == 'urban':\n",
        "                user_input[column] = 1\n",
        "            elif location == 'rural':\n",
        "                user_input[column] = 2\n",
        "            else:\n",
        "                print(\"Invalid Location input. Please enter Urban or Rural.\")\n",
        "                exit()\n",
        "        else:\n",
        "            try:\n",
        "                user_input[column] = float(input(f\"Enter value for {column}: \"))\n",
        "            except ValueError:\n",
        "                print(f\"Invalid input for {column}. Please enter a numeric value.\")\n",
        "                exit()  # Exit if invalid input\n",
        "\n",
        "    # Create a DataFrame from user input\n",
        "    user_df = pd.DataFrame([user_input])\n",
        "\n",
        "    # Predict the stress score\n",
        "    predicted_stress_score = model.predict(user_df)[0]\n",
        "\n",
        "    print(f\"Predicted Stress Score: {predicted_stress_score:.2f}\")\n",
        "\n",
        "    # Evaluate the model on the test set\n",
        "    y_pred = model.predict(X_test)\n",
        "    mse = mean_squared_error(y_test, y_pred)\n",
        "    rmse = np.sqrt(mse)\n",
        "    print(f\"Root Mean Squared Error (RMSE) on test set: {rmse:.2f}\")\n",
        "\n",
        "except FileNotFoundError:\n",
        "    print(f\"Error: File '{csv_file_path}' not found.\")\n",
        "except Exception as e:\n",
        "    print(f\"An error occurred: {e}\")"
      ]
    }
  ],
  "metadata": {
    "colab": {
      "provenance": []
    },
    "kernelspec": {
      "display_name": "Python 3",
      "name": "python3"
    },
    "language_info": {
      "name": "python"
    }
  },
  "nbformat": 4,
  "nbformat_minor": 0
}